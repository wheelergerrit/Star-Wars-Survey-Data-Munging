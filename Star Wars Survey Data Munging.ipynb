{
 "cells": [
  {
   "cell_type": "code",
   "execution_count": null,
   "metadata": {
    "collapsed": true
   },
   "outputs": [],
   "source": [
    "import pandas as pd\n",
    "\n",
    "#Find the dataset here: https://github.com/fivethirtyeight/data/tree/master/star-wars-survey\n",
    "star_wars = pd.read_csv('star_wars.csv',encoding='ISO-8859-1')\n",
    "star_wars.head(10)"
   ]
  },
  {
   "cell_type": "code",
   "execution_count": null,
   "metadata": {
    "collapsed": true
   },
   "outputs": [],
   "source": [
    "print(star_wars.shape)"
   ]
  },
  {
   "cell_type": "code",
   "execution_count": null,
   "metadata": {
    "collapsed": true
   },
   "outputs": [],
   "source": [
    "star_wars = star_wars[pd.notnull(star_wars['RespondentID']) == True]\n",
    "print(star_wars.shape)"
   ]
  },
  {
   "cell_type": "code",
   "execution_count": null,
   "metadata": {
    "collapsed": true
   },
   "outputs": [],
   "source": [
    "#Before we convert the values in columns to Boolean values, let's first look \n",
    "#at the unique column values and their counts\n",
    "star_wars['Have you seen any of the 6 films in the Star Wars franchise?'].value_counts()"
   ]
  },
  {
   "cell_type": "code",
   "execution_count": null,
   "metadata": {
    "collapsed": true
   },
   "outputs": [],
   "source": [
    "#Now taking the \"Yes\" and \"No\" values in columns of interest and converting \n",
    "#them to bools using the series method map(dict)\n",
    "yes_no = {\"Yes\": True, \"No\": False}\n",
    "star_wars['Have you seen any of the 6 films in the Star Wars franchise?'] = star_wars['Have you seen any of the 6 films in the Star Wars franchise?'].map(yes_no)\n",
    "star_wars['Do you consider yourself to be a fan of the Star Wars film franchise?'] = star_wars['Do you consider yourself to be a fan of the Star Wars film franchise?'].map(yes_no)\n",
    "\n",
    "#Now, let's reexamine the new unique value counts\n",
    "star_wars['Have you seen any of the 6 films in the Star Wars franchise?'].value_counts()"
   ]
  },
  {
   "cell_type": "code",
   "execution_count": null,
   "metadata": {
    "collapsed": true
   },
   "outputs": [],
   "source": [
    "star_wars['Which of the following Star Wars films have you seen? Please select all that apply.'].unique()"
   ]
  },
  {
   "cell_type": "code",
   "execution_count": null,
   "metadata": {
    "collapsed": true
   },
   "outputs": [],
   "source": [
    "star_wars_cols = {'Which of the following Star Wars films have you seen? Please select all that apply.':'seen_1',\n",
    "                    'Unnamed: 4':'seen_2',\n",
    "                   'Unnamed: 5':'seen_3',\n",
    "                    'Unnamed: 6':'seen_4',\n",
    "                    'Unnamed: 7':'seen_5',\n",
    "                    'Unnamed: 8':'seen_6'}\n",
    "\n",
    "#Renaming columns so they are easier to deal with\n",
    "star_wars = star_wars.rename(columns=star_wars_cols)\n",
    "star_wars.head(3)"
   ]
  },
  {
   "cell_type": "code",
   "execution_count": null,
   "metadata": {
    "collapsed": true
   },
   "outputs": [],
   "source": [
    "import numpy as np\n",
    "\n",
    "star_wars_bools = {'Star Wars: Episode I  The Phantom Menace':True,\n",
    "                    'Star Wars: Episode II  Attack of the Clones':True,\n",
    "                   'Star Wars: Episode III  Revenge of the Sith':True,\n",
    "                    'Star Wars: Episode IV  A New Hope':True,\n",
    "                    'Star Wars: Episode V The Empire Strikes Back':True,\n",
    "                    'Star Wars: Episode VI Return of the Jedi':True,\n",
    "                   np.nan:False}\n",
    "\n",
    "#Now assigning a bool value to whether or not the person saw each star wars film\n",
    "for col in list(star_wars.columns[3:9]):\n",
    "    star_wars[col] = star_wars[col].map(star_wars_bools) "
   ]
  },
  {
   "cell_type": "code",
   "execution_count": null,
   "metadata": {
    "collapsed": true
   },
   "outputs": [],
   "source": [
    "#Now converting rank columns to float values\n",
    "star_wars[star_wars.columns[9:15]] = star_wars[star_wars.columns[9:15]].astype(float)"
   ]
  },
  {
   "cell_type": "code",
   "execution_count": null,
   "metadata": {
    "collapsed": true
   },
   "outputs": [],
   "source": [
    "#Renaming the ranking columns using the rename() series method\n",
    "rank_cols = {'Please rank the Star Wars films in order of preference with 1 being your favorite film in the franchise and 6 being your least favorite film.': 'ranking_1',\n",
    "            'Unnamed: 10': 'ranking_2',\n",
    "            'Unnamed: 11': 'ranking_3',\n",
    "            'Unnamed: 12': 'ranking_4',\n",
    "            'Unnamed: 13': 'ranking_5',\n",
    "            'Unnamed: 14': 'ranking_6'}\n",
    "\n",
    "star_wars = star_wars.rename(columns=rank_cols)"
   ]
  },
  {
   "cell_type": "code",
   "execution_count": null,
   "metadata": {
    "collapsed": true
   },
   "outputs": [],
   "source": [
    "star_wars[star_wars.columns[9:15]].mean()"
   ]
  },
  {
   "cell_type": "code",
   "execution_count": null,
   "metadata": {
    "collapsed": true
   },
   "outputs": [],
   "source": [
    "import matplotlib.pyplot as plt\n",
    "%matplotlib inline\n",
    "\n",
    "#Creating bar graph of star wars rankings\n",
    "plt.bar(range(6),star_wars[star_wars.columns[9:15]].mean())\n",
    "\n",
    "plt.show()"
   ]
  },
  {
   "cell_type": "markdown",
   "metadata": {},
   "source": [
    "Up until now, we have cleaned up some of the checked box data into a usable format, and we have gone ahead and mapped some of the responses to useable Boolean values.\n",
    "Also, we have gone ahead and put the ranking columns into a useable format so that we could create the above bar plot. This plot shows the mean ranking of each Star Wars film, the lower the mean ranking, the higher it ranks in the fans' minds. A low mean rank means it is well-liked. \n",
    "The bar plot above shows that the lowest ranked film on average is episode 3, while the highest ranked film on average is episode 4. This confirms FiveThirtyEight's posit that The Empire Strikes back is the best Star Wars film."
   ]
  },
  {
   "cell_type": "code",
   "execution_count": null,
   "metadata": {
    "collapsed": true
   },
   "outputs": [],
   "source": [
    "#Now using the sum() method to compute the sum of the 'seen' columns\n",
    "star_wars[star_wars.columns[3:9]].sum()"
   ]
  },
  {
   "cell_type": "code",
   "execution_count": null,
   "metadata": {
    "collapsed": true
   },
   "outputs": [],
   "source": [
    "plt.bar(range(6),star_wars[star_wars.columns[3:9]].sum())\n",
    "\n",
    "plt.show()"
   ]
  },
  {
   "cell_type": "markdown",
   "metadata": {},
   "source": [
    "This graph is in keeping with the bar graph of the rankings. It seems that the least amount of people have seen episode 3 (also the lowest ranked,) and the most people have seen episode 5 which is also the hightest ranked."
   ]
  },
  {
   "cell_type": "code",
   "execution_count": null,
   "metadata": {
    "collapsed": true
   },
   "outputs": [],
   "source": [
    "#Splitting the df based on the gender column\n",
    "males = star_wars[star_wars['Gender'] ==  'Male']\n",
    "females = star_wars[star_wars['Gender'] ==  'Female']"
   ]
  },
  {
   "cell_type": "code",
   "execution_count": null,
   "metadata": {
    "collapsed": true
   },
   "outputs": [],
   "source": [
    "#Running the rank analysis for the male df\n",
    "males[males.columns[9:15]].mean()"
   ]
  },
  {
   "cell_type": "code",
   "execution_count": null,
   "metadata": {
    "collapsed": true
   },
   "outputs": [],
   "source": [
    "#Creating a bar graph of the rankings for males\n",
    "plt.bar(range(6),males[males.columns[9:15]].mean())\n",
    "\n",
    "plt.show()"
   ]
  },
  {
   "cell_type": "markdown",
   "metadata": {},
   "source": [
    "We see that the males tend to rank the older films (episodes 3 through 6) higher than the later films (episodes 1 thorugh 3). Still, however, episode 5 is the highest ranked and episode 3 is the lowest ranked."
   ]
  },
  {
   "cell_type": "code",
   "execution_count": null,
   "metadata": {
    "collapsed": true
   },
   "outputs": [],
   "source": [
    "#Running a rank analysis for the female df\n",
    "females[females.columns[9:15]].mean()"
   ]
  },
  {
   "cell_type": "code",
   "execution_count": null,
   "metadata": {
    "collapsed": true
   },
   "outputs": [],
   "source": [
    "#Creating a bar graph of the rankings for females\n",
    "plt.bar(range(6),females[females.columns[9:15]].mean())\n",
    "\n",
    "plt.show()"
   ]
  },
  {
   "cell_type": "markdown",
   "metadata": {},
   "source": [
    "We can see that, for the females, there is a lot more variation in the rankings of the first three films. Yet, the female dataset is in keeping with the trend; episode 3 is ranked lowest and episode 5 is ranked highest."
   ]
  },
  {
   "cell_type": "code",
   "execution_count": null,
   "metadata": {
    "collapsed": true
   },
   "outputs": [],
   "source": [
    "#Running the seen column analysis for the male df\n",
    "males[males.columns[3:9]].sum()"
   ]
  },
  {
   "cell_type": "code",
   "execution_count": null,
   "metadata": {
    "collapsed": true
   },
   "outputs": [],
   "source": [
    "#Now plotting the seen columns \n",
    "plt.bar(range(6),males[males.columns[3:9]].sum())\n",
    "\n",
    "plt.show()"
   ]
  },
  {
   "cell_type": "code",
   "execution_count": null,
   "metadata": {
    "collapsed": true
   },
   "outputs": [],
   "source": [
    "#Running the seen column analysis for the female df\n",
    "females[females.columns[3:9]].sum()"
   ]
  },
  {
   "cell_type": "code",
   "execution_count": null,
   "metadata": {
    "collapsed": true
   },
   "outputs": [],
   "source": [
    "#Now plotting the seen columns for the female df\n",
    "plt.bar(range(6),females[females.columns[3:9]].sum())\n",
    "\n",
    "plt.show()"
   ]
  },
  {
   "cell_type": "markdown",
   "metadata": {},
   "source": [
    "These two bar plots show us that, in general, much less women have seen the Star Wars films, especially the newer ones (episodes 1 through 3.)"
   ]
  },
  {
   "cell_type": "markdown",
   "metadata": {},
   "source": [
    "Try to segment the data by columns like Education, Location (Census Region), and Which character shot first?, which aren't binary. Are they any interesting patterns?\n",
    "Clean up columns 15 to 29, which have to do with what characters are viewed favorably and unfavorably.\n",
    "Which character is the most liked?\n",
    "Which character is the most disliked?\n",
    "Which character creates the most controversy? (split between dislikes and likes)"
   ]
  }
 ],
 "metadata": {
  "kernelspec": {
   "display_name": "Python 3",
   "language": "python",
   "name": "python3"
  },
  "language_info": {
   "codemirror_mode": {
    "name": "ipython",
    "version": 3
   },
   "file_extension": ".py",
   "mimetype": "text/x-python",
   "name": "python",
   "nbconvert_exporter": "python",
   "pygments_lexer": "ipython3",
   "version": "3.5.1"
  }
 },
 "nbformat": 4,
 "nbformat_minor": 0
}
